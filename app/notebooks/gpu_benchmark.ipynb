{
 "cells": [
  {
   "cell_type": "code",
   "execution_count": null,
   "metadata": {},
   "outputs": [],
   "source": [
    "import torch\n",
    "import time\n",
    "\n",
    "def cpu_matrix_multiplication(matrix_size):\n",
    "    a = torch.rand(matrix_size, matrix_size)\n",
    "    b = torch.rand(matrix_size, matrix_size)\n",
    "    start_time = time.time()\n",
    "    c = torch.matmul(a, b)\n",
    "    end_time = time.time()\n",
    "    return end_time - start_time\n",
    "\n",
    "def gpu_matrix_multiplication(matrix_size):\n",
    "    if torch.backends.mps.is_available():\n",
    "        mps_device = torch.device(\"mps\")\n",
    "        a = torch.rand(matrix_size, matrix_size, device=mps_device)\n",
    "        b = torch.rand(matrix_size, matrix_size, device=mps_device)\n",
    "        start_time = time.time()\n",
    "        c = torch.matmul(a, b)\n",
    "        end_time = time.time()\n",
    "        return end_time - start_time\n",
    "    else:\n",
    "        return None\n",
    "\n",
    "# Adjust the matrix size based on your system's capability\n",
    "matrix_size = 50000  # Example size\n",
    "num_trials = 30\n",
    "\n",
    "cpu_times = []\n",
    "gpu_times = []\n",
    "for _ in range(num_trials):\n",
    "    cpu_time = cpu_matrix_multiplication(matrix_size)\n",
    "    gpu_time = gpu_matrix_multiplication(matrix_size)\n",
    "    cpu_times.append(cpu_time)\n",
    "    gpu_times.append(gpu_time if gpu_time is not None else float('nan'))\n",
    "\n",
    "# Plotting\n",
    "import matplotlib.pyplot as plt\n",
    "import seaborn as sns\n",
    "\n",
    "sns.set(style=\"whitegrid\")\n",
    "plt.figure(figsize=(12, 6))\n",
    "plt.plot(range(1, num_trials + 1), cpu_times, label='CPU Times')\n",
    "plt.plot(range(1, num_trials + 1), gpu_times, label='GPU Times')\n",
    "plt.xlabel('Trial')\n",
    "plt.ylabel('Time (seconds)')\n",
    "plt.title('CPU vs GPU Matrix Multiplication Times')\n",
    "plt.legend()\n",
    "plt.show()\n"
   ]
  }
 ],
 "metadata": {
  "kernelspec": {
   "display_name": "Python 3 (ipykernel)",
   "language": "python",
   "name": "python3"
  },
  "language_info": {
   "codemirror_mode": {
    "name": "ipython",
    "version": 3
   },
   "file_extension": ".py",
   "mimetype": "text/x-python",
   "name": "python",
   "nbconvert_exporter": "python",
   "pygments_lexer": "ipython3",
   "version": "3.11.6"
  }
 },
 "nbformat": 4,
 "nbformat_minor": 4
}
